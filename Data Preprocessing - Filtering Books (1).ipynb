{
  "metadata": {
    "kernelspec": {
      "name": "python",
      "display_name": "Python (Pyodide)",
      "language": "python"
    },
    "language_info": {
      "codemirror_mode": {
        "name": "python",
        "version": 3
      },
      "file_extension": ".py",
      "mimetype": "text/x-python",
      "name": "python",
      "nbconvert_exporter": "python",
      "pygments_lexer": "ipython3",
      "version": "3.8"
    }
  },
  "nbformat_minor": 5,
  "nbformat": 4,
  "cells": [
    {
      "id": "4a835482",
      "cell_type": "code",
      "source": "import pandas as pd\nimport numpy as np",
      "metadata": {
        "trusted": true
      },
      "outputs": [],
      "execution_count": 2
    },
    {
      "id": "56629ccb",
      "cell_type": "code",
      "source": "pdf=pd.read_csv('products.csv')\ncdf=pd.read_csv('copurchase.csv')",
      "metadata": {
        "trusted": true
      },
      "outputs": [],
      "execution_count": 3
    },
    {
      "id": "d525b090",
      "cell_type": "code",
      "source": "pdf",
      "metadata": {
        "scrolled": true,
        "trusted": true
      },
      "outputs": [
        {
          "execution_count": 4,
          "output_type": "execute_result",
          "data": {
            "text/plain": "            id                                              title group  \\\n0            1            Patterns of Preaching: A Sermon Sampler  Book   \n1            2                         Candlemas: Feast of Flames  Book   \n2            3   World War II Allied Fighter Planes Trading Cards  Book   \n3            4  Life Application Bible Commentary: 1 and 2 Tim...  Book   \n4            5    Prayers That Avail Much for Business: Executive  Book   \n...        ...                                                ...   ...   \n259162  262104                                      Satchel Paige  Book   \n259163  262106  Japanese for Busy People: English Teacher's Ma...  Book   \n259164  262107                                       Halloween II   DVD   \n259165  262108                               Book Of Vision Quest  Book   \n259166  262109  Favorite Russian Fairy Tales (Dover Children's...  Book   \n\n        salesrank  review_cnt  downloads  rating  \n0        396585.0           2          2     5.0  \n1        168596.0          12         12     4.5  \n2       1270652.0           1          1     5.0  \n3        631289.0           1          1     4.0  \n4        455160.0           0          0     0.0  \n...           ...         ...        ...     ...  \n259162    36449.0           3          3     4.5  \n259163   588715.0           0          0     0.0  \n259164    31245.0         320        320     4.0  \n259165   255390.0           4          4     4.0  \n259166   250544.0           2          2     5.0  \n\n[259167 rows x 7 columns]",
            "text/html": "<div>\n<style scoped>\n    .dataframe tbody tr th:only-of-type {\n        vertical-align: middle;\n    }\n\n    .dataframe tbody tr th {\n        vertical-align: top;\n    }\n\n    .dataframe thead th {\n        text-align: right;\n    }\n</style>\n<table border=\"1\" class=\"dataframe\">\n  <thead>\n    <tr style=\"text-align: right;\">\n      <th></th>\n      <th>id</th>\n      <th>title</th>\n      <th>group</th>\n      <th>salesrank</th>\n      <th>review_cnt</th>\n      <th>downloads</th>\n      <th>rating</th>\n    </tr>\n  </thead>\n  <tbody>\n    <tr>\n      <th>0</th>\n      <td>1</td>\n      <td>Patterns of Preaching: A Sermon Sampler</td>\n      <td>Book</td>\n      <td>396585.0</td>\n      <td>2</td>\n      <td>2</td>\n      <td>5.0</td>\n    </tr>\n    <tr>\n      <th>1</th>\n      <td>2</td>\n      <td>Candlemas: Feast of Flames</td>\n      <td>Book</td>\n      <td>168596.0</td>\n      <td>12</td>\n      <td>12</td>\n      <td>4.5</td>\n    </tr>\n    <tr>\n      <th>2</th>\n      <td>3</td>\n      <td>World War II Allied Fighter Planes Trading Cards</td>\n      <td>Book</td>\n      <td>1270652.0</td>\n      <td>1</td>\n      <td>1</td>\n      <td>5.0</td>\n    </tr>\n    <tr>\n      <th>3</th>\n      <td>4</td>\n      <td>Life Application Bible Commentary: 1 and 2 Tim...</td>\n      <td>Book</td>\n      <td>631289.0</td>\n      <td>1</td>\n      <td>1</td>\n      <td>4.0</td>\n    </tr>\n    <tr>\n      <th>4</th>\n      <td>5</td>\n      <td>Prayers That Avail Much for Business: Executive</td>\n      <td>Book</td>\n      <td>455160.0</td>\n      <td>0</td>\n      <td>0</td>\n      <td>0.0</td>\n    </tr>\n    <tr>\n      <th>...</th>\n      <td>...</td>\n      <td>...</td>\n      <td>...</td>\n      <td>...</td>\n      <td>...</td>\n      <td>...</td>\n      <td>...</td>\n    </tr>\n    <tr>\n      <th>259162</th>\n      <td>262104</td>\n      <td>Satchel Paige</td>\n      <td>Book</td>\n      <td>36449.0</td>\n      <td>3</td>\n      <td>3</td>\n      <td>4.5</td>\n    </tr>\n    <tr>\n      <th>259163</th>\n      <td>262106</td>\n      <td>Japanese for Busy People: English Teacher's Ma...</td>\n      <td>Book</td>\n      <td>588715.0</td>\n      <td>0</td>\n      <td>0</td>\n      <td>0.0</td>\n    </tr>\n    <tr>\n      <th>259164</th>\n      <td>262107</td>\n      <td>Halloween II</td>\n      <td>DVD</td>\n      <td>31245.0</td>\n      <td>320</td>\n      <td>320</td>\n      <td>4.0</td>\n    </tr>\n    <tr>\n      <th>259165</th>\n      <td>262108</td>\n      <td>Book Of Vision Quest</td>\n      <td>Book</td>\n      <td>255390.0</td>\n      <td>4</td>\n      <td>4</td>\n      <td>4.0</td>\n    </tr>\n    <tr>\n      <th>259166</th>\n      <td>262109</td>\n      <td>Favorite Russian Fairy Tales (Dover Children's...</td>\n      <td>Book</td>\n      <td>250544.0</td>\n      <td>2</td>\n      <td>2</td>\n      <td>5.0</td>\n    </tr>\n  </tbody>\n</table>\n<p>259167 rows × 7 columns</p>\n</div>"
          },
          "metadata": {}
        }
      ],
      "execution_count": 4
    },
    {
      "id": "bb589c7d",
      "cell_type": "code",
      "source": "pdf.info()",
      "metadata": {
        "scrolled": true,
        "trusted": true
      },
      "outputs": [
        {
          "name": "stdout",
          "text": "<class 'pandas.core.frame.DataFrame'>\nRangeIndex: 259167 entries, 0 to 259166\nData columns (total 7 columns):\n #   Column      Non-Null Count   Dtype  \n---  ------      --------------   -----  \n 0   id          259167 non-null  int64  \n 1   title       259167 non-null  object \n 2   group       259167 non-null  object \n 3   salesrank   259167 non-null  float64\n 4   review_cnt  259167 non-null  int64  \n 5   downloads   259167 non-null  int64  \n 6   rating      259167 non-null  float64\ndtypes: float64(2), int64(3), object(2)\nmemory usage: 11.9+ MB\n",
          "output_type": "stream"
        }
      ],
      "execution_count": 5
    },
    {
      "id": "21d240b4",
      "cell_type": "code",
      "source": "pdf.describe()",
      "metadata": {
        "trusted": true
      },
      "outputs": [
        {
          "execution_count": 6,
          "output_type": "execute_result",
          "data": {
            "text/plain": "                  id     salesrank     review_cnt      downloads  \\\ncount  259167.000000  2.591670e+05  259167.000000  259167.000000   \nmean   131018.343813  4.955061e+05      14.000895      13.750589   \nstd     75663.758316  5.750585e+05      72.878967      69.013924   \nmin         1.000000 -1.000000e+00       0.000000       0.000000   \n25%     65489.500000  9.191100e+04       0.000000       0.000000   \n50%    131007.000000  3.031550e+05       2.000000       2.000000   \n75%    196511.500000  6.778710e+05       8.000000       7.000000   \nmax    262109.000000  3.793303e+06    5545.000000    4995.000000   \n\n              rating  \ncount  259167.000000  \nmean        3.158454  \nstd         2.019447  \nmin         0.000000  \n25%         0.000000  \n50%         4.000000  \n75%         5.000000  \nmax         5.000000  ",
            "text/html": "<div>\n<style scoped>\n    .dataframe tbody tr th:only-of-type {\n        vertical-align: middle;\n    }\n\n    .dataframe tbody tr th {\n        vertical-align: top;\n    }\n\n    .dataframe thead th {\n        text-align: right;\n    }\n</style>\n<table border=\"1\" class=\"dataframe\">\n  <thead>\n    <tr style=\"text-align: right;\">\n      <th></th>\n      <th>id</th>\n      <th>salesrank</th>\n      <th>review_cnt</th>\n      <th>downloads</th>\n      <th>rating</th>\n    </tr>\n  </thead>\n  <tbody>\n    <tr>\n      <th>count</th>\n      <td>259167.000000</td>\n      <td>2.591670e+05</td>\n      <td>259167.000000</td>\n      <td>259167.000000</td>\n      <td>259167.000000</td>\n    </tr>\n    <tr>\n      <th>mean</th>\n      <td>131018.343813</td>\n      <td>4.955061e+05</td>\n      <td>14.000895</td>\n      <td>13.750589</td>\n      <td>3.158454</td>\n    </tr>\n    <tr>\n      <th>std</th>\n      <td>75663.758316</td>\n      <td>5.750585e+05</td>\n      <td>72.878967</td>\n      <td>69.013924</td>\n      <td>2.019447</td>\n    </tr>\n    <tr>\n      <th>min</th>\n      <td>1.000000</td>\n      <td>-1.000000e+00</td>\n      <td>0.000000</td>\n      <td>0.000000</td>\n      <td>0.000000</td>\n    </tr>\n    <tr>\n      <th>25%</th>\n      <td>65489.500000</td>\n      <td>9.191100e+04</td>\n      <td>0.000000</td>\n      <td>0.000000</td>\n      <td>0.000000</td>\n    </tr>\n    <tr>\n      <th>50%</th>\n      <td>131007.000000</td>\n      <td>3.031550e+05</td>\n      <td>2.000000</td>\n      <td>2.000000</td>\n      <td>4.000000</td>\n    </tr>\n    <tr>\n      <th>75%</th>\n      <td>196511.500000</td>\n      <td>6.778710e+05</td>\n      <td>8.000000</td>\n      <td>7.000000</td>\n      <td>5.000000</td>\n    </tr>\n    <tr>\n      <th>max</th>\n      <td>262109.000000</td>\n      <td>3.793303e+06</td>\n      <td>5545.000000</td>\n      <td>4995.000000</td>\n      <td>5.000000</td>\n    </tr>\n  </tbody>\n</table>\n</div>"
          },
          "metadata": {}
        }
      ],
      "execution_count": 6
    },
    {
      "id": "bfff829c",
      "cell_type": "code",
      "source": "pdf['group'].unique()",
      "metadata": {
        "trusted": true
      },
      "outputs": [
        {
          "execution_count": 7,
          "output_type": "execute_result",
          "data": {
            "text/plain": "array(['Book', 'Music', 'DVD', 'Video', 'Toy', 'Video Games', 'Software',\n       'Baby Product', 'CE'], dtype=object)"
          },
          "metadata": {}
        }
      ],
      "execution_count": 7
    },
    {
      "id": "e3503ac4",
      "cell_type": "code",
      "source": "new_pdf=pdf[pdf['group']=='Book']",
      "metadata": {
        "trusted": true
      },
      "outputs": [],
      "execution_count": 8
    },
    {
      "id": "a931ac9c",
      "cell_type": "code",
      "source": "new_pdf",
      "metadata": {
        "scrolled": true,
        "trusted": true
      },
      "outputs": [
        {
          "execution_count": 9,
          "output_type": "execute_result",
          "data": {
            "text/plain": "            id                                              title group  \\\n0            1            Patterns of Preaching: A Sermon Sampler  Book   \n1            2                         Candlemas: Feast of Flames  Book   \n2            3   World War II Allied Fighter Planes Trading Cards  Book   \n3            4  Life Application Bible Commentary: 1 and 2 Tim...  Book   \n4            5    Prayers That Avail Much for Business: Executive  Book   \n...        ...                                                ...   ...   \n259160  262102  The Everything Homebuying Book: From Open Hous...  Book   \n259162  262104                                      Satchel Paige  Book   \n259163  262106  Japanese for Busy People: English Teacher's Ma...  Book   \n259165  262108                               Book Of Vision Quest  Book   \n259166  262109  Favorite Russian Fairy Tales (Dover Children's...  Book   \n\n        salesrank  review_cnt  downloads  rating  \n0        396585.0           2          2     5.0  \n1        168596.0          12         12     4.5  \n2       1270652.0           1          1     5.0  \n3        631289.0           1          1     4.0  \n4        455160.0           0          0     0.0  \n...           ...         ...        ...     ...  \n259160   664919.0           3          3     4.5  \n259162    36449.0           3          3     4.5  \n259163   588715.0           0          0     0.0  \n259165   255390.0           4          4     4.0  \n259166   250544.0           2          2     5.0  \n\n[188013 rows x 7 columns]",
            "text/html": "<div>\n<style scoped>\n    .dataframe tbody tr th:only-of-type {\n        vertical-align: middle;\n    }\n\n    .dataframe tbody tr th {\n        vertical-align: top;\n    }\n\n    .dataframe thead th {\n        text-align: right;\n    }\n</style>\n<table border=\"1\" class=\"dataframe\">\n  <thead>\n    <tr style=\"text-align: right;\">\n      <th></th>\n      <th>id</th>\n      <th>title</th>\n      <th>group</th>\n      <th>salesrank</th>\n      <th>review_cnt</th>\n      <th>downloads</th>\n      <th>rating</th>\n    </tr>\n  </thead>\n  <tbody>\n    <tr>\n      <th>0</th>\n      <td>1</td>\n      <td>Patterns of Preaching: A Sermon Sampler</td>\n      <td>Book</td>\n      <td>396585.0</td>\n      <td>2</td>\n      <td>2</td>\n      <td>5.0</td>\n    </tr>\n    <tr>\n      <th>1</th>\n      <td>2</td>\n      <td>Candlemas: Feast of Flames</td>\n      <td>Book</td>\n      <td>168596.0</td>\n      <td>12</td>\n      <td>12</td>\n      <td>4.5</td>\n    </tr>\n    <tr>\n      <th>2</th>\n      <td>3</td>\n      <td>World War II Allied Fighter Planes Trading Cards</td>\n      <td>Book</td>\n      <td>1270652.0</td>\n      <td>1</td>\n      <td>1</td>\n      <td>5.0</td>\n    </tr>\n    <tr>\n      <th>3</th>\n      <td>4</td>\n      <td>Life Application Bible Commentary: 1 and 2 Tim...</td>\n      <td>Book</td>\n      <td>631289.0</td>\n      <td>1</td>\n      <td>1</td>\n      <td>4.0</td>\n    </tr>\n    <tr>\n      <th>4</th>\n      <td>5</td>\n      <td>Prayers That Avail Much for Business: Executive</td>\n      <td>Book</td>\n      <td>455160.0</td>\n      <td>0</td>\n      <td>0</td>\n      <td>0.0</td>\n    </tr>\n    <tr>\n      <th>...</th>\n      <td>...</td>\n      <td>...</td>\n      <td>...</td>\n      <td>...</td>\n      <td>...</td>\n      <td>...</td>\n      <td>...</td>\n    </tr>\n    <tr>\n      <th>259160</th>\n      <td>262102</td>\n      <td>The Everything Homebuying Book: From Open Hous...</td>\n      <td>Book</td>\n      <td>664919.0</td>\n      <td>3</td>\n      <td>3</td>\n      <td>4.5</td>\n    </tr>\n    <tr>\n      <th>259162</th>\n      <td>262104</td>\n      <td>Satchel Paige</td>\n      <td>Book</td>\n      <td>36449.0</td>\n      <td>3</td>\n      <td>3</td>\n      <td>4.5</td>\n    </tr>\n    <tr>\n      <th>259163</th>\n      <td>262106</td>\n      <td>Japanese for Busy People: English Teacher's Ma...</td>\n      <td>Book</td>\n      <td>588715.0</td>\n      <td>0</td>\n      <td>0</td>\n      <td>0.0</td>\n    </tr>\n    <tr>\n      <th>259165</th>\n      <td>262108</td>\n      <td>Book Of Vision Quest</td>\n      <td>Book</td>\n      <td>255390.0</td>\n      <td>4</td>\n      <td>4</td>\n      <td>4.0</td>\n    </tr>\n    <tr>\n      <th>259166</th>\n      <td>262109</td>\n      <td>Favorite Russian Fairy Tales (Dover Children's...</td>\n      <td>Book</td>\n      <td>250544.0</td>\n      <td>2</td>\n      <td>2</td>\n      <td>5.0</td>\n    </tr>\n  </tbody>\n</table>\n<p>188013 rows × 7 columns</p>\n</div>"
          },
          "metadata": {}
        }
      ],
      "execution_count": 9
    },
    {
      "id": "bb33d9dc",
      "cell_type": "code",
      "source": "new_pdf.group.unique()",
      "metadata": {
        "trusted": true
      },
      "outputs": [
        {
          "execution_count": 10,
          "output_type": "execute_result",
          "data": {
            "text/plain": "array(['Book'], dtype=object)"
          },
          "metadata": {}
        }
      ],
      "execution_count": 10
    },
    {
      "id": "ae8c3066",
      "cell_type": "code",
      "source": "book_ids=pdf[pdf['group']=='Book']['id'].to_numpy()\nbook_ids",
      "metadata": {
        "trusted": true
      },
      "outputs": [
        {
          "execution_count": 11,
          "output_type": "execute_result",
          "data": {
            "text/plain": "array([     1,      2,      3, ..., 262106, 262108, 262109], dtype=int64)"
          },
          "metadata": {}
        }
      ],
      "execution_count": 11
    },
    {
      "id": "2a3095fd",
      "cell_type": "code",
      "source": "non_book_ids=pdf[pdf['group']!='Book']['id'].to_numpy()\nnon_book_ids",
      "metadata": {
        "scrolled": true,
        "trusted": true
      },
      "outputs": [
        {
          "execution_count": 12,
          "output_type": "execute_result",
          "data": {
            "text/plain": "array([     7,     14,     18, ..., 262101, 262103, 262107], dtype=int64)"
          },
          "metadata": {}
        }
      ],
      "execution_count": 12
    },
    {
      "id": "c0808635",
      "cell_type": "code",
      "source": "len(new_pdf)",
      "metadata": {
        "scrolled": true,
        "trusted": true
      },
      "outputs": [
        {
          "execution_count": 13,
          "output_type": "execute_result",
          "data": {
            "text/plain": "188013"
          },
          "metadata": {}
        }
      ],
      "execution_count": 13
    },
    {
      "id": "07c3549d",
      "cell_type": "code",
      "source": "len(pdf)",
      "metadata": {
        "trusted": true
      },
      "outputs": [
        {
          "execution_count": 14,
          "output_type": "execute_result",
          "data": {
            "text/plain": "259167"
          },
          "metadata": {}
        }
      ],
      "execution_count": 14
    },
    {
      "id": "bd4b5acc",
      "cell_type": "code",
      "source": "cdf",
      "metadata": {
        "trusted": true
      },
      "outputs": [
        {
          "execution_count": 15,
          "output_type": "execute_result",
          "data": {
            "text/plain": "         Source  Target\n0             1       2\n1             1       4\n2             1       5\n3             1      15\n4             2      11\n...         ...     ...\n1234865  262110  262099\n1234866  262110  262100\n1234867  262110  262101\n1234868  262110  262106\n1234869  262110  262107\n\n[1234870 rows x 2 columns]",
            "text/html": "<div>\n<style scoped>\n    .dataframe tbody tr th:only-of-type {\n        vertical-align: middle;\n    }\n\n    .dataframe tbody tr th {\n        vertical-align: top;\n    }\n\n    .dataframe thead th {\n        text-align: right;\n    }\n</style>\n<table border=\"1\" class=\"dataframe\">\n  <thead>\n    <tr style=\"text-align: right;\">\n      <th></th>\n      <th>Source</th>\n      <th>Target</th>\n    </tr>\n  </thead>\n  <tbody>\n    <tr>\n      <th>0</th>\n      <td>1</td>\n      <td>2</td>\n    </tr>\n    <tr>\n      <th>1</th>\n      <td>1</td>\n      <td>4</td>\n    </tr>\n    <tr>\n      <th>2</th>\n      <td>1</td>\n      <td>5</td>\n    </tr>\n    <tr>\n      <th>3</th>\n      <td>1</td>\n      <td>15</td>\n    </tr>\n    <tr>\n      <th>4</th>\n      <td>2</td>\n      <td>11</td>\n    </tr>\n    <tr>\n      <th>...</th>\n      <td>...</td>\n      <td>...</td>\n    </tr>\n    <tr>\n      <th>1234865</th>\n      <td>262110</td>\n      <td>262099</td>\n    </tr>\n    <tr>\n      <th>1234866</th>\n      <td>262110</td>\n      <td>262100</td>\n    </tr>\n    <tr>\n      <th>1234867</th>\n      <td>262110</td>\n      <td>262101</td>\n    </tr>\n    <tr>\n      <th>1234868</th>\n      <td>262110</td>\n      <td>262106</td>\n    </tr>\n    <tr>\n      <th>1234869</th>\n      <td>262110</td>\n      <td>262107</td>\n    </tr>\n  </tbody>\n</table>\n<p>1234870 rows × 2 columns</p>\n</div>"
          },
          "metadata": {}
        }
      ],
      "execution_count": 15
    },
    {
      "id": "cb18cb52",
      "cell_type": "code",
      "source": "len(cdf)",
      "metadata": {
        "trusted": true
      },
      "outputs": [
        {
          "execution_count": 16,
          "output_type": "execute_result",
          "data": {
            "text/plain": "1234870"
          },
          "metadata": {}
        }
      ],
      "execution_count": 16
    },
    {
      "id": "a82d6cc3",
      "cell_type": "code",
      "source": "new_cdf=cdf[cdf.Source.isin(book_ids)]",
      "metadata": {
        "trusted": true
      },
      "outputs": [],
      "execution_count": 17
    },
    {
      "id": "90160d43",
      "cell_type": "code",
      "source": "new_cdf=new_cdf[new_cdf.Target.isin(book_ids)]",
      "metadata": {
        "trusted": true
      },
      "outputs": [],
      "execution_count": 18
    },
    {
      "id": "fe4b0be0",
      "cell_type": "code",
      "source": "new_cdf",
      "metadata": {
        "trusted": true
      },
      "outputs": [
        {
          "execution_count": 19,
          "output_type": "execute_result",
          "data": {
            "text/plain": "         Source  Target\n0             1       2\n1             1       4\n2             1       5\n3             1      15\n4             2      11\n...         ...     ...\n1234859  262108  262109\n1234860  262109  262076\n1234861  262109  262097\n1234863  262109  262099\n1234864  262109  262100\n\n[637893 rows x 2 columns]",
            "text/html": "<div>\n<style scoped>\n    .dataframe tbody tr th:only-of-type {\n        vertical-align: middle;\n    }\n\n    .dataframe tbody tr th {\n        vertical-align: top;\n    }\n\n    .dataframe thead th {\n        text-align: right;\n    }\n</style>\n<table border=\"1\" class=\"dataframe\">\n  <thead>\n    <tr style=\"text-align: right;\">\n      <th></th>\n      <th>Source</th>\n      <th>Target</th>\n    </tr>\n  </thead>\n  <tbody>\n    <tr>\n      <th>0</th>\n      <td>1</td>\n      <td>2</td>\n    </tr>\n    <tr>\n      <th>1</th>\n      <td>1</td>\n      <td>4</td>\n    </tr>\n    <tr>\n      <th>2</th>\n      <td>1</td>\n      <td>5</td>\n    </tr>\n    <tr>\n      <th>3</th>\n      <td>1</td>\n      <td>15</td>\n    </tr>\n    <tr>\n      <th>4</th>\n      <td>2</td>\n      <td>11</td>\n    </tr>\n    <tr>\n      <th>...</th>\n      <td>...</td>\n      <td>...</td>\n    </tr>\n    <tr>\n      <th>1234859</th>\n      <td>262108</td>\n      <td>262109</td>\n    </tr>\n    <tr>\n      <th>1234860</th>\n      <td>262109</td>\n      <td>262076</td>\n    </tr>\n    <tr>\n      <th>1234861</th>\n      <td>262109</td>\n      <td>262097</td>\n    </tr>\n    <tr>\n      <th>1234863</th>\n      <td>262109</td>\n      <td>262099</td>\n    </tr>\n    <tr>\n      <th>1234864</th>\n      <td>262109</td>\n      <td>262100</td>\n    </tr>\n  </tbody>\n</table>\n<p>637893 rows × 2 columns</p>\n</div>"
          },
          "metadata": {}
        }
      ],
      "execution_count": 19
    },
    {
      "id": "d3a1bc2e",
      "cell_type": "code",
      "source": "len(new_cdf)",
      "metadata": {
        "trusted": true
      },
      "outputs": [
        {
          "execution_count": 20,
          "output_type": "execute_result",
          "data": {
            "text/plain": "637893"
          },
          "metadata": {}
        }
      ],
      "execution_count": 20
    },
    {
      "id": "5f4c3a84",
      "cell_type": "code",
      "source": "new_cdf.Source.isin(book_ids).unique()",
      "metadata": {
        "trusted": true
      },
      "outputs": [
        {
          "execution_count": 21,
          "output_type": "execute_result",
          "data": {
            "text/plain": "array([ True])"
          },
          "metadata": {}
        }
      ],
      "execution_count": 21
    },
    {
      "id": "433409ed",
      "cell_type": "code",
      "source": "new_cdf.Target.isin(book_ids).unique()",
      "metadata": {
        "trusted": true
      },
      "outputs": [
        {
          "execution_count": 22,
          "output_type": "execute_result",
          "data": {
            "text/plain": "array([ True])"
          },
          "metadata": {}
        }
      ],
      "execution_count": 22
    },
    {
      "id": "6e0b7a0d",
      "cell_type": "code",
      "source": "# All the edges and nodes are related with BOOK",
      "metadata": {
        "trusted": true
      },
      "outputs": [],
      "execution_count": 23
    },
    {
      "id": "e5950bef",
      "cell_type": "code",
      "source": "# producing book related datasets\n# new_pdf.to_csv('books_info.csv')\n# new_cdf.to_csv('books_copurchase.csv')",
      "metadata": {
        "trusted": true
      },
      "outputs": [],
      "execution_count": 24
    },
    {
      "id": "f3bc9bfa",
      "cell_type": "code",
      "source": "# no. of nodes\nlen(new_pdf)",
      "metadata": {
        "trusted": true
      },
      "outputs": [
        {
          "execution_count": 25,
          "output_type": "execute_result",
          "data": {
            "text/plain": "188013"
          },
          "metadata": {}
        }
      ],
      "execution_count": 25
    },
    {
      "id": "a4306056",
      "cell_type": "code",
      "source": "# no. of edges\nlen(new_cdf)",
      "metadata": {
        "trusted": true
      },
      "outputs": [
        {
          "execution_count": 26,
          "output_type": "execute_result",
          "data": {
            "text/plain": "637893"
          },
          "metadata": {}
        }
      ],
      "execution_count": 26
    },
    {
      "id": "0f039a8b",
      "cell_type": "code",
      "source": "in_degree=pd.DataFrame(new_cdf.groupby(['Target'])['Source'].size()).reset_index()\nin_degree.columns=['id','in_degree']\n\nout_degree=pd.DataFrame(new_cdf.groupby(['Source'])['Target'].size()).reset_index()\nout_degree.columns=['id','out_degree']\n\nall_degree=pd.merge(in_degree,out_degree,on='id',how='outer')\nall_degree[np.isnan(all_degree)]=0\n\nall_degree['all_degree']=(all_degree.in_degree+all_degree.out_degree)\n\nall_degree=all_degree.sort_values('all_degree',ascending=False)\n\nall_degree",
      "metadata": {
        "trusted": true
      },
      "outputs": [
        {
          "execution_count": 27,
          "output_type": "execute_result",
          "data": {
            "text/plain": "            id  in_degree  out_degree  all_degree\n10063    14949      309.0         3.0       312.0\n3087      4429      278.0         3.0       281.0\n25          33      262.0         4.0       266.0\n8624     12771      240.0         3.0       243.0\n4            8      201.0         3.0       204.0\n...        ...        ...         ...         ...\n179775  144940        0.0         1.0         1.0\n154841  230770        1.0         0.0         1.0\n111772  164783        1.0         0.0         1.0\n12185    18013        1.0         0.0         1.0\n145149  215939        1.0         0.0         1.0\n\n[186147 rows x 4 columns]",
            "text/html": "<div>\n<style scoped>\n    .dataframe tbody tr th:only-of-type {\n        vertical-align: middle;\n    }\n\n    .dataframe tbody tr th {\n        vertical-align: top;\n    }\n\n    .dataframe thead th {\n        text-align: right;\n    }\n</style>\n<table border=\"1\" class=\"dataframe\">\n  <thead>\n    <tr style=\"text-align: right;\">\n      <th></th>\n      <th>id</th>\n      <th>in_degree</th>\n      <th>out_degree</th>\n      <th>all_degree</th>\n    </tr>\n  </thead>\n  <tbody>\n    <tr>\n      <th>10063</th>\n      <td>14949</td>\n      <td>309.0</td>\n      <td>3.0</td>\n      <td>312.0</td>\n    </tr>\n    <tr>\n      <th>3087</th>\n      <td>4429</td>\n      <td>278.0</td>\n      <td>3.0</td>\n      <td>281.0</td>\n    </tr>\n    <tr>\n      <th>25</th>\n      <td>33</td>\n      <td>262.0</td>\n      <td>4.0</td>\n      <td>266.0</td>\n    </tr>\n    <tr>\n      <th>8624</th>\n      <td>12771</td>\n      <td>240.0</td>\n      <td>3.0</td>\n      <td>243.0</td>\n    </tr>\n    <tr>\n      <th>4</th>\n      <td>8</td>\n      <td>201.0</td>\n      <td>3.0</td>\n      <td>204.0</td>\n    </tr>\n    <tr>\n      <th>...</th>\n      <td>...</td>\n      <td>...</td>\n      <td>...</td>\n      <td>...</td>\n    </tr>\n    <tr>\n      <th>179775</th>\n      <td>144940</td>\n      <td>0.0</td>\n      <td>1.0</td>\n      <td>1.0</td>\n    </tr>\n    <tr>\n      <th>154841</th>\n      <td>230770</td>\n      <td>1.0</td>\n      <td>0.0</td>\n      <td>1.0</td>\n    </tr>\n    <tr>\n      <th>111772</th>\n      <td>164783</td>\n      <td>1.0</td>\n      <td>0.0</td>\n      <td>1.0</td>\n    </tr>\n    <tr>\n      <th>12185</th>\n      <td>18013</td>\n      <td>1.0</td>\n      <td>0.0</td>\n      <td>1.0</td>\n    </tr>\n    <tr>\n      <th>145149</th>\n      <td>215939</td>\n      <td>1.0</td>\n      <td>0.0</td>\n      <td>1.0</td>\n    </tr>\n  </tbody>\n</table>\n<p>186147 rows × 4 columns</p>\n</div>"
          },
          "metadata": {}
        }
      ],
      "execution_count": 27
    },
    {
      "id": "2c25474b",
      "cell_type": "code",
      "source": "# len(all_degree)",
      "metadata": {
        "trusted": true
      },
      "outputs": [],
      "execution_count": 28
    },
    {
      "id": "604bd549",
      "cell_type": "code",
      "source": "# node with highest all_degree\nnew_pdf[new_pdf['id']==14849]",
      "metadata": {
        "trusted": true
      },
      "outputs": [
        {
          "execution_count": 29,
          "output_type": "execute_result",
          "data": {
            "text/plain": "          id                                              title group  \\\n14707  14849  McCoy Pottery: Reference & Value Guide (McCoy ...  Book   \n\n       salesrank  review_cnt  downloads  rating  \n14707   159827.0          11         11     4.5  ",
            "text/html": "<div>\n<style scoped>\n    .dataframe tbody tr th:only-of-type {\n        vertical-align: middle;\n    }\n\n    .dataframe tbody tr th {\n        vertical-align: top;\n    }\n\n    .dataframe thead th {\n        text-align: right;\n    }\n</style>\n<table border=\"1\" class=\"dataframe\">\n  <thead>\n    <tr style=\"text-align: right;\">\n      <th></th>\n      <th>id</th>\n      <th>title</th>\n      <th>group</th>\n      <th>salesrank</th>\n      <th>review_cnt</th>\n      <th>downloads</th>\n      <th>rating</th>\n    </tr>\n  </thead>\n  <tbody>\n    <tr>\n      <th>14707</th>\n      <td>14849</td>\n      <td>McCoy Pottery: Reference &amp; Value Guide (McCoy ...</td>\n      <td>Book</td>\n      <td>159827.0</td>\n      <td>11</td>\n      <td>11</td>\n      <td>4.5</td>\n    </tr>\n  </tbody>\n</table>\n</div>"
          },
          "metadata": {}
        }
      ],
      "execution_count": 29
    },
    {
      "id": "f9b70ed6",
      "cell_type": "code",
      "source": "",
      "metadata": {
        "trusted": true
      },
      "outputs": [],
      "execution_count": null
    },
    {
      "id": "990b2a54-2a58-450b-a7b9-837680002e27",
      "cell_type": "code",
      "source": "",
      "metadata": {
        "trusted": true
      },
      "outputs": [],
      "execution_count": null
    }
  ]
}