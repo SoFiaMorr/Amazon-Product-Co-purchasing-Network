{
 "cells": [
  {
   "cell_type": "markdown",
   "metadata": {},
   "source": [
    "## Importing the required modules"
   ]
  },
  {
   "cell_type": "code",
   "execution_count": 49,
   "metadata": {},
   "outputs": [],
   "source": [
    "import string\n",
    "import re\n",
    "from nltk.corpus import stopwords\n",
    "from stemming.porter2 import stem\n",
    "import networkx \n",
    "from operator import itemgetter"
   ]
  },
  {
   "cell_type": "markdown",
   "metadata": {},
   "source": [
    "## Accessing the meta-data"
   ]
  },
  {
   "cell_type": "code",
   "execution_count": 2,
   "metadata": {},
   "outputs": [],
   "source": [
    "Metadata_File = open('amazon-meta.txt', 'r', encoding = 'utf-8', errors = 'ignore')\n",
    "Amazon_Products = {}"
   ]
  },
  {
   "cell_type": "code",
   "execution_count": 3,
   "metadata": {},
   "outputs": [],
   "source": [
    "(Id, ASIN, Title, Categories, Group, Copurchased, SalesRank, TotalReviews, AvgRating, DegreeCentrality, ClusteringCoeff) = \\\n",
    "    (\"\", \"\", \"\", \"\", \"\", \"\", 0, 0, 0.0, 0, 0.0)\n",
    "\n",
    "for line in Metadata_File:\n",
    "   \n",
    "    line = line.strip()\n",
    "\n",
    "    if(line.startswith(\"Id\")):\n",
    "        Id = line[3:].strip()\n",
    "\n",
    "    elif(line.startswith(\"ASIN\")):\n",
    "        ASIN = line[5:].strip()\n",
    "\n",
    "    elif(line.startswith(\"title\")):\n",
    "        Title = line[6:].strip()\n",
    "        Title = ' '.join(Title.split())\n",
    "\n",
    "    elif(line.startswith(\"group\")):\n",
    "        Group = line[6:].strip()\n",
    "\n",
    "    elif(line.startswith(\"salesrank\")):\n",
    "        SalesRank = line[10:].strip()\n",
    "\n",
    "    elif(line. startswith(\"similar\")):\n",
    "        ls = line.split()\n",
    "        Copurchased = ' '.join([c for c in ls[2:]])\n",
    "\n",
    "    elif(line.startswith(\"categories\")):\n",
    "        ls = line.split()\n",
    "        Categories = ' '.join((Metadata_File.readline()).lower() for i in range(int(ls[1].strip())))\n",
    "        Categories = re.compile('[%s]' % re.escape(string.digits + string.punctuation)).sub(' ', Categories)\n",
    "        Categories = ' '.join(set(Categories.split()) - set(stopwords.words(\"english\")))\n",
    "        Categories = ' '.join(stem(word) for word in Categories.split())\n",
    "\n",
    "    elif(line.startswith(\"reviews\")):\n",
    "        ls = line.split()\n",
    "        TotalReviews = ls[2].strip()\n",
    "        AvgRating = ls[7].strip()\n",
    "\n",
    "    elif(line == \"\"):\n",
    "        try:\n",
    "            MetaData = {}\n",
    "            if (ASIN != \"\"):\n",
    "                Amazon_Products[ASIN] = MetaData   \n",
    "            MetaData['Id'] = Id\n",
    "            MetaData['Title'] = Title\n",
    "            MetaData['Categories'] = ' '.join(set(Categories.split()))\n",
    "            MetaData['Group'] = Group\n",
    "            MetaData['Copurchased'] = Copurchased\n",
    "            MetaData['SalesRank'] = int(SalesRank)\n",
    "            MetaData['TotalReviews'] = int(TotalReviews)\n",
    "            MetaData['AvgRating'] = float(AvgRating)\n",
    "            MetaData['DegreeCentrality'] = DegreeCentrality\n",
    "            MetaData['ClusteringCoeff'] = ClusteringCoeff\n",
    "        except NameError:\n",
    "            continue\n",
    "    (Id, ASIN, Title, Categories, Group, Copurchased, SalesRank, TotalReviews, AvgRating, DegreeCentrality, ClusteringCoeff) = \\\n",
    "        (\"\", \"\", \"\", \"\", \"\", \"\", 0, 0, 0.0, 0, 0.0)\n",
    "\n",
    "Metadata_File.close()"
   ]
  },
  {
   "cell_type": "markdown",
   "metadata": {},
   "source": [
    "## Filtering out data related to book records"
   ]
  },
  {
   "cell_type": "code",
   "execution_count": 4,
   "metadata": {},
   "outputs": [],
   "source": [
    "Amazon_Books = {}\n",
    "for asin, metadata in Amazon_Products.items():\n",
    "    if (metadata['Group'] == 'Book'):\n",
    "        Amazon_Books[asin] = Amazon_Products[asin]"
   ]
  },
  {
   "cell_type": "markdown",
   "metadata": {},
   "source": [
    "## Adding recommendation property"
   ]
  },
  {
   "cell_type": "code",
   "execution_count": 20,
   "metadata": {},
   "outputs": [],
   "source": [
    "Copurchase_Graph = networkx.Graph() \n",
    "for asin, metadata in Amazon_Books.items():\n",
    "    Copurchase_Graph.add_node(asin) \n",
    "    for a in metadata['Copurchased'].split():\n",
    "        Copurchase_Graph.add_node(a.strip()) \n",
    "        similarity = 0 \n",
    "        n1 = set((Amazon_Books[asin]['Categories']).split())\n",
    "        n2 = set((Amazon_Books[a]['Categories']).split()) \n",
    "        n1In2 = n1 & n2           \n",
    "        n1Un2 = n1 | n2\n",
    "        if(len(n1In2)) > 0:\n",
    "            similarity = round(len(n1In2) / len(n1Un2), 2) \n",
    "            Copurchase_Graph.add_edge(asin, a.strip(), weight = similarity)"
   ]
  },
  {
   "cell_type": "code",
   "execution_count": 23,
   "metadata": {},
   "outputs": [],
   "source": [
    "dc = networkx.degree(Copurchase_Graph) \n",
    "for asin in networkx.nodes(Copurchase_Graph):\n",
    "    metadata = Amazon_Books[asin] \n",
    "    metadata['DegreeCentrality'] = int(dc[asin]) \n",
    "    ego = networkx.ego_graph(Copurchase_Graph, asin, radius = 1) \n",
    "    metadata['ClusteringCoeff'] = round(networkx.average_clustering(ego), 2)\n",
    "    Amazon_Books[asin] = metadata "
   ]
  },
  {
   "cell_type": "code",
   "execution_count": 24,
   "metadata": {},
   "outputs": [],
   "source": [
    "Amazon_Books_File = open('amazon-books.txt', 'w', encoding = 'utf-8', errors = 'ignore')\n",
    "\n",
    "Amazon_Books_File.write(\"Id\\t\" + \"ASIN\\t\" + \"Title\\t\" + \"Categories\\t\" + \"Group\\t\" + \"Copurchased\\t\" + \"SalesRank\\t\" + \"TotalReviews\\t\" + \"AvgRating\\t\" \"DegreeCentrality\\t\" + \n",
    "                        \"ClusteringCoeff\\n\") \n",
    "\n",
    "for asin, metadata in Amazon_Books.items(): # converting the meta-data into txt file\n",
    "     Amazon_Books_File.write(metadata['Id'] + \"\\t\" + \\\n",
    "                             asin + \"\\t\" +  \\\n",
    "                             metadata['Title'] + \"\\t\" + \\\n",
    "                             metadata['Categories'] + \"\\t\" + \\\n",
    "                             metadata['Group'] + \"\\t\" +  \\\n",
    "                             metadata['Copurchased'] + \"\\t\" + \\\n",
    "                             str(metadata['SalesRank']) + \"\\t\" + \\\n",
    "                             str(metadata['TotalReviews']) + \"\\t\" + \n",
    "                             str(metadata['AvgRating']) + \"\\t\" + \\\n",
    "                             str(metadata['DegreeCentrality']) + \"\\t\" + \\\n",
    "                             str(metadata['ClusteringCoeff']) + \"\\n\")\n",
    "\n",
    "Amazon_Books_File.close()"
   ]
  },
  {
   "cell_type": "code",
   "execution_count": 25,
   "metadata": {},
   "outputs": [],
   "source": [
    "# writing the adjacency edge list\n",
    "Amazon_Books_File = open(\"amazon-books-copurchase.edgelist\", 'wb') \n",
    "networkx.write_weighted_edgelist(Copurchase_Graph, Amazon_Books_File) \n",
    "Amazon_Books_File.close() "
   ]
  },
  {
   "cell_type": "markdown",
   "metadata": {},
   "source": [
    "## Reading the text file"
   ]
  },
  {
   "cell_type": "code",
   "execution_count": 27,
   "metadata": {},
   "outputs": [],
   "source": [
    "Books_File = open('amazon-books.txt', 'r', encoding = 'utf-8', errors = 'ignore')\n",
    "Books = {}\n",
    "Books_File.readline()\n",
    "for line in Books_File:\n",
    "    cell = line.split(\"\\t\") \n",
    "    MetaData = {}\n",
    "    MetaData['Id'] = cell[0].strip() \n",
    "    ASIN = cell[1].strip()\n",
    "    MetaData['Title'] = cell[2].strip() \n",
    "    MetaData['Categories'] = cell[3].strip() \n",
    "    MetaData['Group'] = cell[4].strip() \n",
    "    MetaData['Copurchased'] = cell[5].strip()\n",
    "    MetaData['SalesRank'] = int(cell[6].strip())\n",
    "    MetaData['TotalReviews'] = int(cell[7].strip())\n",
    "    MetaData['AvgRating'] = float(cell[8].strip())\n",
    "    MetaData['DegreeCentrality'] = int(cell[9].strip())\n",
    "    MetaData['ClusteringCoeff'] = float(cell[10].strip())\n",
    "    Books[ASIN] = MetaData \n",
    "Books_File.close()"
   ]
  },
  {
   "cell_type": "code",
   "execution_count": 28,
   "metadata": {},
   "outputs": [],
   "source": [
    "Books_File = open(\"amazon-books-copurchase.edgelist\", \"rb\") \n",
    "Copurchase_Graph = networkx.read_weighted_edgelist(Books_File) \n",
    "Books_File.close() "
   ]
  },
  {
   "cell_type": "markdown",
   "metadata": {},
   "source": [
    "## Giving Book id as input for recommending books"
   ]
  },
  {
   "cell_type": "code",
   "execution_count": 29,
   "metadata": {},
   "outputs": [
    {
     "name": "stdout",
     "output_type": "stream",
     "text": [
      "Looking for Recommendations for Customer Purchasing this Book: \n",
      "---------------------------------------------------------------\n",
      "ASIN =  0805047905\n",
      "Title =  Brown Bear, Brown Bear, What Do You See?\n",
      "SalesRank =  171\n",
      "TotalReviews =  172\n",
      "AvgRating =  5.0\n",
      "DegreeCentrality =  213\n",
      "ClusteringCoeff =  0.66\n"
     ]
    }
   ],
   "source": [
    "print(\"Looking for Recommendations for Customer Purchasing this Book: \")\n",
    "print(\"---------------------------------------------------------------\")\n",
    "Purchased_ASIN = '0805047905'\n",
    "print(\"ASIN = \", Purchased_ASIN)\n",
    "print(\"Title = \", Books[Purchased_ASIN]['Title'])\n",
    "print(\"SalesRank = \", Books[Purchased_ASIN]['SalesRank'])\n",
    "print(\"TotalReviews = \", Books[Purchased_ASIN]['TotalReviews'])\n",
    "print(\"AvgRating = \", Books[Purchased_ASIN]['AvgRating'])\n",
    "print(\"DegreeCentrality = \", Books[Purchased_ASIN]['DegreeCentrality'])\n",
    "print(\"ClusteringCoeff = \", Books[Purchased_ASIN]['ClusteringCoeff'])"
   ]
  },
  {
   "cell_type": "code",
   "execution_count": 30,
   "metadata": {},
   "outputs": [],
   "source": [
    "n = Purchased_ASIN\n",
    "ego = networkx.ego_graph(Copurchase_Graph, n, radius = 1)\n",
    "Purchased_ASIN_Ego_Graph = networkx.Graph(ego)"
   ]
  },
  {
   "cell_type": "code",
   "execution_count": 44,
   "metadata": {},
   "outputs": [],
   "source": [
    "threshold = 0.5 # finding the nodes having similarity measure based on category above the threshold value\n",
    "Purchased_ASIN_Ego_Trim_Graph = networkx.Graph()\n",
    "for f, t, e in Purchased_ASIN_Ego_Graph.edges(data = True):\n",
    "    if e['weight'] >= threshold: \n",
    "        Purchased_ASIN_Ego_Trim_Graph.add_edge(f, t)"
   ]
  },
  {
   "cell_type": "code",
   "execution_count": 45,
   "metadata": {},
   "outputs": [],
   "source": [
    "Purchased_ASIN_Neighbors = Purchased_ASIN_Ego_Trim_Graph.neighbors(Purchased_ASIN)"
   ]
  },
  {
   "cell_type": "code",
   "execution_count": 46,
   "metadata": {},
   "outputs": [],
   "source": [
    "ASIN_Meta = []\n",
    "for asin in Purchased_ASIN_Neighbors:\n",
    "    ASIN = asin\n",
    "    Title = Amazon_Books[ASIN]['Title']\n",
    "    SalesRank = Amazon_Books[ASIN]['SalesRank']\n",
    "    TotalReviews = Amazon_Books[ASIN]['TotalReviews']\n",
    "    AvgRating = Amazon_Books[ASIN]['AvgRating']\n",
    "    DegreeCentrality = Amazon_Books[ASIN]['DegreeCentrality']\n",
    "    ASIN_Meta.append((ASIN, Title, SalesRank, TotalReviews, AvgRating, DegreeCentrality, ClusteringCoeff))"
   ]
  },
  {
   "cell_type": "markdown",
   "metadata": {},
   "source": [
    "## Showing Top 5 Recommendations"
   ]
  },
  {
   "cell_type": "code",
   "execution_count": 47,
   "metadata": {},
   "outputs": [],
   "source": [
    "Top5_ByAbgRating_ThenByTotalReviews = sorted(ASIN_Meta, key = lambda x: (x[4], x[3]), reverse = True)[:5]"
   ]
  },
  {
   "cell_type": "code",
   "execution_count": 51,
   "metadata": {},
   "outputs": [
    {
     "name": "stdout",
     "output_type": "stream",
     "text": [
      "\n",
      "Top 5 Recommendations By AvgRating Then By TotalReviews for Users Purchased The Book: \n",
      "--------------------------------------------------------------------------------------\n",
      "ASIN\t Title\t SalesRank\t TotalReviews\t AvgRating\t DegreeCentrality\t ClusteringCoeff\n",
      "('0152010661', 'Time for Bed', 3122, 87, 5.0, 60, 0.0)\n",
      "('0694006246', 'Big Red Barn Board Book', 4457, 40, 5.0, 27, 0.0)\n",
      "('1581170769', 'What Makes a Rainbow?: Pop-Up', 40821, 29, 5.0, 7, 0.0)\n",
      "('0064435962', 'From Head to Toe', 187777, 22, 5.0, 5, 0.0)\n",
      "('0694013013', 'From Head to Toe Board Book', 6026, 22, 5.0, 47, 0.0)\n",
      "\n"
     ]
    }
   ],
   "source": [
    "print()\n",
    "print(\"Top 5 Recommendations By AvgRating Then By TotalReviews for Users Purchased The Book: \")\n",
    "print(\"--------------------------------------------------------------------------------------\")\n",
    "print('ASIN\\t', 'Title\\t', 'SalesRank\\t', 'TotalReviews\\t', 'AvgRating\\t', 'DegreeCentrality\\t', 'ClusteringCoeff')\n",
    "for asin in Top5_ByAbgRating_ThenByTotalReviews:\n",
    "    print(asin)\n",
    "\n",
    "print()"
   ]
  }
 ],
 "metadata": {
  "interpreter": {
   "hash": "e16b9bd33e7041c0842013505aab8d96e59e427e4e0c80436ba1b7c1f34f93b5"
  },
  "kernelspec": {
   "display_name": "Python 3 (ipykernel)",
   "language": "python",
   "name": "python3"
  },
  "language_info": {
   "codemirror_mode": {
    "name": "ipython",
    "version": 3
   },
   "file_extension": ".py",
   "mimetype": "text/x-python",
   "name": "python",
   "nbconvert_exporter": "python",
   "pygments_lexer": "ipython3",
   "version": "3.10.6"
  }
 },
 "nbformat": 4,
 "nbformat_minor": 2
}
